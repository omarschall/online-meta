{
 "cells": [
  {
   "cell_type": "code",
   "execution_count": 1,
   "metadata": {
    "collapsed": true
   },
   "outputs": [],
   "source": [
    "import sys\n",
    "sys.path.append('/Users/omarschall/online-meta/')\n",
    "import torch\n",
    "from network import Net\n",
    "from simulation import Simulation\n",
    "from optimizers import SGD_Multi_LR\n",
    "from utils import *\n",
    "import os\n",
    "import pickle\n",
    "import matplotlib.pyplot as plt\n",
    "%matplotlib inline"
   ]
  },
  {
   "cell_type": "code",
   "execution_count": 2,
   "metadata": {
    "collapsed": true
   },
   "outputs": [],
   "source": [
    "data_path = '/Users/omarschall/cluster_results/online-meta/baseline_fixed_lr_3/'\n",
    "n_jobs = len(os.listdir(data_path)) - 1"
   ]
  },
  {
   "cell_type": "code",
   "execution_count": 3,
   "metadata": {
    "collapsed": true
   },
   "outputs": [],
   "source": [
    "def retrieve_job(i_job, data_path):\n",
    "     \n",
    "    file_name = 'rnn_{}'.format(i_job)\n",
    "    with open(os.path.join(data_path, file_name), 'rb') as f:\n",
    "        result = pickle.load(f)\n",
    "        \n",
    "    return result\n",
    "\n",
    "def retrieve_data(data_path, keys=[]):\n",
    "    \n",
    "    data = {key: [] for key in keys}\n",
    "    configs = []\n",
    "    \n",
    "    n_jobs = len(os.listdir(data_path)) - 1\n",
    "    for i_job in range(n_jobs):\n",
    "    \n",
    "        try:\n",
    "            result = retrieve_job(i_job, data_path)\n",
    "        except FileNotFoundError:\n",
    "            continue\n",
    "        \n",
    "        #set_trace()\n",
    "        \n",
    "        for key in keys:\n",
    "            data[key].append(result[key])\n",
    "        configs.append(result['config'])\n",
    "\n",
    "    \n",
    "    return data, configs"
   ]
  },
  {
   "cell_type": "code",
   "execution_count": 4,
   "metadata": {
    "collapsed": true
   },
   "outputs": [],
   "source": [
    "### --- GET BASELINE RESULTS --- ###\n",
    "baseline_path = '/Users/omarschall/cluster_results/online-meta/gridsearch_baseline_5/'\n",
    "baseline_data, baseline_configs = retrieve_data(data_path=baseline_path, keys=['init_LR_test_loss',\n",
    "                                                                               'init_LR_test_correct'])\n",
    "baseline_LRs = [config['lr'] for config in baseline_configs]"
   ]
  },
  {
   "cell_type": "code",
   "execution_count": 5,
   "metadata": {
    "collapsed": true
   },
   "outputs": [],
   "source": [
    "### --- GET MODEL RESULTS --- ###\n",
    "model_path = '/Users/omarschall/cluster_results/online-meta/private_LR_layerwise/'\n",
    "model_data, model_configs = retrieve_data(data_path=model_path, keys=['meta_test_test_loss',\n",
    "                                                                      'meta_test_test_correct',\n",
    "                                                                      'monitors'])\n",
    "model_LRs = [config['lr'] for config in model_configs]\n",
    "model_MLRs = [config['mlr'] for config in model_configs]"
   ]
  },
  {
   "cell_type": "code",
   "execution_count": 129,
   "metadata": {},
   "outputs": [
    {
     "data": {
      "text/plain": [
       "[0.050000000000000003,\n",
       " 0.050000000000000003,\n",
       " 0.050000000000000003,\n",
       " 0.050000000000000003,\n",
       " 0.050000000000000003,\n",
       " 0.050000000000000003,\n",
       " 0.050000000000000003,\n",
       " 0.050000000000000003,\n",
       " 0.050000000000000003,\n",
       " 0.050000000000000003,\n",
       " 0.050000000000000003,\n",
       " 0.050000000000000003,\n",
       " 0.050000000000000003,\n",
       " 0.050000000000000003,\n",
       " 0.050000000000000003,\n",
       " 0.050000000000000003,\n",
       " 0.050000000000000003,\n",
       " 0.050000000000000003,\n",
       " 0.050000000000000003,\n",
       " 0.050000000000000003,\n",
       " 0.050000000000000003,\n",
       " 0.050000000000000003,\n",
       " 0.050000000000000003,\n",
       " 0.050000000000000003,\n",
       " 0.050000000000000003,\n",
       " 0.050000000000000003,\n",
       " 0.050000000000000003,\n",
       " 0.050000000000000003,\n",
       " 0.050000000000000003,\n",
       " 0.050000000000000003,\n",
       " 0.050000000000000003,\n",
       " 0.050000000000000003,\n",
       " 0.050000000000000003,\n",
       " 0.050000000000000003,\n",
       " 0.077777777777777779,\n",
       " 0.077777777777777779,\n",
       " 0.077777777777777779,\n",
       " 0.077777777777777779,\n",
       " 0.077777777777777779,\n",
       " 0.077777777777777779,\n",
       " 0.077777777777777779,\n",
       " 0.077777777777777779,\n",
       " 0.077777777777777779,\n",
       " 0.077777777777777779,\n",
       " 0.077777777777777779,\n",
       " 0.077777777777777779,\n",
       " 0.077777777777777779,\n",
       " 0.077777777777777779,\n",
       " 0.077777777777777779,\n",
       " 0.077777777777777779,\n",
       " 0.077777777777777779,\n",
       " 0.077777777777777779,\n",
       " 0.077777777777777779,\n",
       " 0.077777777777777779,\n",
       " 0.077777777777777779,\n",
       " 0.077777777777777779,\n",
       " 0.077777777777777779,\n",
       " 0.077777777777777779,\n",
       " 0.077777777777777779,\n",
       " 0.077777777777777779,\n",
       " 0.077777777777777779,\n",
       " 0.077777777777777779,\n",
       " 0.077777777777777779,\n",
       " 0.077777777777777779,\n",
       " 0.077777777777777779,\n",
       " 0.077777777777777779,\n",
       " 0.077777777777777779,\n",
       " 0.077777777777777779,\n",
       " 0.077777777777777779,\n",
       " 0.10555555555555556,\n",
       " 0.10555555555555556,\n",
       " 0.10555555555555556,\n",
       " 0.10555555555555556,\n",
       " 0.10555555555555556,\n",
       " 0.10555555555555556,\n",
       " 0.10555555555555556,\n",
       " 0.10555555555555556,\n",
       " 0.10555555555555556,\n",
       " 0.10555555555555556,\n",
       " 0.10555555555555556,\n",
       " 0.10555555555555556,\n",
       " 0.10555555555555556,\n",
       " 0.10555555555555556,\n",
       " 0.10555555555555556,\n",
       " 0.10555555555555556,\n",
       " 0.10555555555555556,\n",
       " 0.10555555555555556,\n",
       " 0.10555555555555556,\n",
       " 0.10555555555555556,\n",
       " 0.10555555555555556,\n",
       " 0.10555555555555556,\n",
       " 0.10555555555555556,\n",
       " 0.10555555555555556,\n",
       " 0.10555555555555556,\n",
       " 0.10555555555555556,\n",
       " 0.10555555555555556,\n",
       " 0.10555555555555556,\n",
       " 0.10555555555555556,\n",
       " 0.10555555555555556,\n",
       " 0.10555555555555556,\n",
       " 0.10555555555555556,\n",
       " 0.10555555555555556,\n",
       " 0.13333333333333333,\n",
       " 0.13333333333333333,\n",
       " 0.13333333333333333,\n",
       " 0.13333333333333333,\n",
       " 0.13333333333333333,\n",
       " 0.13333333333333333,\n",
       " 0.13333333333333333,\n",
       " 0.13333333333333333,\n",
       " 0.13333333333333333,\n",
       " 0.13333333333333333,\n",
       " 0.13333333333333333,\n",
       " 0.13333333333333333,\n",
       " 0.13333333333333333,\n",
       " 0.13333333333333333,\n",
       " 0.13333333333333333,\n",
       " 0.13333333333333333,\n",
       " 0.13333333333333333,\n",
       " 0.13333333333333333,\n",
       " 0.13333333333333333,\n",
       " 0.13333333333333333,\n",
       " 0.13333333333333333,\n",
       " 0.13333333333333333,\n",
       " 0.13333333333333333,\n",
       " 0.13333333333333333,\n",
       " 0.13333333333333333,\n",
       " 0.13333333333333333,\n",
       " 0.13333333333333333,\n",
       " 0.13333333333333333,\n",
       " 0.13333333333333333,\n",
       " 0.13333333333333333,\n",
       " 0.13333333333333333,\n",
       " 0.13333333333333333,\n",
       " 0.13333333333333333,\n",
       " 0.13333333333333333,\n",
       " 0.16111111111111109,\n",
       " 0.16111111111111109,\n",
       " 0.16111111111111109,\n",
       " 0.16111111111111109,\n",
       " 0.16111111111111109,\n",
       " 0.16111111111111109,\n",
       " 0.16111111111111109,\n",
       " 0.16111111111111109,\n",
       " 0.16111111111111109,\n",
       " 0.16111111111111109,\n",
       " 0.16111111111111109,\n",
       " 0.16111111111111109,\n",
       " 0.16111111111111109,\n",
       " 0.16111111111111109,\n",
       " 0.16111111111111109,\n",
       " 0.16111111111111109,\n",
       " 0.16111111111111109,\n",
       " 0.16111111111111109,\n",
       " 0.16111111111111109,\n",
       " 0.16111111111111109,\n",
       " 0.16111111111111109,\n",
       " 0.16111111111111109,\n",
       " 0.16111111111111109,\n",
       " 0.16111111111111109,\n",
       " 0.16111111111111109,\n",
       " 0.16111111111111109,\n",
       " 0.16111111111111109,\n",
       " 0.16111111111111109,\n",
       " 0.16111111111111109,\n",
       " 0.16111111111111109,\n",
       " 0.16111111111111109]"
      ]
     },
     "execution_count": 129,
     "metadata": {},
     "output_type": "execute_result"
    }
   ],
   "source": [
    "model_LRs"
   ]
  },
  {
   "cell_type": "code",
   "execution_count": 6,
   "metadata": {},
   "outputs": [
    {
     "data": {
      "text/plain": [
       "<matplotlib.text.Text at 0x119d013c8>"
      ]
     },
     "execution_count": 6,
     "metadata": {},
     "output_type": "execute_result"
    },
    {
     "data": {
      "image/png": "[encoded data removed]",
      "text/plain": [
       "<matplotlib.figure.Figure at 0x10f94d390>"
      ]
     },
     "metadata": {
      "needs_background": "light"
     },
     "output_type": "display_data"
    }
   ],
   "source": [
    "#plt.plot(baseline_LRs, baseline_data['init_LR_test_loss'], '.')\n",
    "plt.plot(np.log10(model_LRs), model_data['meta_test_test_loss'], '.')#plt.plot(model_LRs, model_data['meta_test_test_loss'], '.')\n",
    "plt.ylim([0, 0.4])\n",
    "plt.xlabel('LR')\n",
    "plt.ylabel('Test Loss')"
   ]
  },
  {
   "cell_type": "code",
   "execution_count": 7,
   "metadata": {},
   "outputs": [
    {
     "ename": "SyntaxError",
     "evalue": "invalid syntax (<ipython-input-7-afdfb286c86f>, line 2)",
     "output_type": "error",
     "traceback": [
      "\u001b[0;36m  File \u001b[0;32m\"<ipython-input-7-afdfb286c86f>\"\u001b[0;36m, line \u001b[0;32m2\u001b[0m\n\u001b[0;31m    np.array(mon['model.eta'])<1).all()\u001b[0m\n\u001b[0m                                ^\u001b[0m\n\u001b[0;31mSyntaxError\u001b[0m\u001b[0;31m:\u001b[0m invalid syntax\n"
     ]
    }
   ],
   "source": [
    "np.log10(0.0001)\n",
    "np.array(mon['model.eta'])<1).all()"
   ]
  },
  {
   "cell_type": "code",
   "execution_count": 8,
   "metadata": {},
   "outputs": [
    {
     "ename": "KeyError",
     "evalue": "'model.eta'",
     "output_type": "error",
     "traceback": [
      "\u001b[0;31m---------------------------------------------------------------------------\u001b[0m",
      "\u001b[0;31mKeyError\u001b[0m                                  Traceback (most recent call last)",
      "\u001b[0;32m<ipython-input-8-9b6726293580>\u001b[0m in \u001b[0;36m<module>\u001b[0;34m()\u001b[0m\n\u001b[1;32m      1\u001b[0m \u001b[0;32mfor\u001b[0m \u001b[0mi\u001b[0m\u001b[0;34m,\u001b[0m \u001b[0mmon\u001b[0m \u001b[0;32min\u001b[0m \u001b[0menumerate\u001b[0m\u001b[0;34m(\u001b[0m\u001b[0mmodel_data\u001b[0m\u001b[0;34m[\u001b[0m\u001b[0;34m'monitors'\u001b[0m\u001b[0;34m]\u001b[0m\u001b[0;34m)\u001b[0m\u001b[0;34m:\u001b[0m\u001b[0;34m\u001b[0m\u001b[0;34m\u001b[0m\u001b[0m\n\u001b[1;32m      2\u001b[0m     \u001b[0;32mif\u001b[0m \u001b[0mmodel_configs\u001b[0m\u001b[0;34m[\u001b[0m\u001b[0mi\u001b[0m\u001b[0;34m]\u001b[0m\u001b[0;34m[\u001b[0m\u001b[0;34m'mlr'\u001b[0m\u001b[0;34m]\u001b[0m \u001b[0;34m==\u001b[0m \u001b[0;36m0.001\u001b[0m\u001b[0;34m:\u001b[0m\u001b[0;34m\u001b[0m\u001b[0;34m\u001b[0m\u001b[0m\n\u001b[0;32m----> 3\u001b[0;31m         \u001b[0mplt\u001b[0m\u001b[0;34m.\u001b[0m\u001b[0mplot\u001b[0m\u001b[0;34m(\u001b[0m\u001b[0mmon\u001b[0m\u001b[0;34m[\u001b[0m\u001b[0;34m'model.eta'\u001b[0m\u001b[0;34m]\u001b[0m\u001b[0;34m,\u001b[0m \u001b[0mcolor\u001b[0m\u001b[0;34m=\u001b[0m\u001b[0;34m'b'\u001b[0m\u001b[0;34m,\u001b[0m \u001b[0malpha\u001b[0m\u001b[0;34m=\u001b[0m\u001b[0;36m0.1\u001b[0m\u001b[0;34m)\u001b[0m\u001b[0;34m\u001b[0m\u001b[0;34m\u001b[0m\u001b[0m\n\u001b[0m\u001b[1;32m      4\u001b[0m \u001b[0mplt\u001b[0m\u001b[0;34m.\u001b[0m\u001b[0mylim\u001b[0m\u001b[0;34m(\u001b[0m\u001b[0;34m[\u001b[0m\u001b[0;36m0\u001b[0m\u001b[0;34m,\u001b[0m \u001b[0;36m0.2\u001b[0m\u001b[0;34m]\u001b[0m\u001b[0;34m)\u001b[0m\u001b[0;34m\u001b[0m\u001b[0;34m\u001b[0m\u001b[0m\n",
      "\u001b[0;31mKeyError\u001b[0m: 'model.eta'"
     ]
    }
   ],
   "source": [
    "for i, mon in enumerate(model_data['monitors']):\n",
    "    if model_configs[i]['mlr'] == 0.001:\n",
    "        plt.plot(mon['model.eta'], color='b', alpha=0.1)\n",
    "plt.ylim([0, 0.2])"
   ]
  },
  {
   "cell_type": "code",
   "execution_count": 9,
   "metadata": {
    "collapsed": true
   },
   "outputs": [],
   "source": [
    "figs_path = '/Users/omarschall/career-stuff/grants/fellowships_2019/google_faculty/figs/'"
   ]
  },
  {
   "cell_type": "code",
   "execution_count": 10,
   "metadata": {
    "collapsed": true
   },
   "outputs": [],
   "source": [
    "raw_data = np.array(baseline_data['init_LR_test_loss'])\n",
    "unique_LRs = np.unique(np.array(baseline_LRs))\n",
    "baseline_test_losses = {lr:[] for lr in unique_LRs}\n",
    "for i, loss in enumerate(raw_data):\n",
    "    baseline_test_losses[baseline_LRs[i]].append(loss)"
   ]
  },
  {
   "cell_type": "code",
   "execution_count": 11,
   "metadata": {},
   "outputs": [
    {
     "data": {
      "text/plain": [
       "[<matplotlib.lines.Line2D at 0x11c2870b8>]"
      ]
     },
     "execution_count": 11,
     "metadata": {},
     "output_type": "execute_result"
    },
    {
     "data": {
      "image/png": "[encoded data removed]",
      "text/plain": [
       "<matplotlib.figure.Figure at 0x11c2876a0>"
      ]
     },
     "metadata": {
      "needs_background": "light"
     },
     "output_type": "display_data"
    }
   ],
   "source": [
    "plt.plot(list(baseline_test_losses.keys()), [np.mean(v) for v in baseline_test_losses.values()])\n",
    "plt.plot(baseline_LRs, raw_data, '.')"
   ]
  },
  {
   "cell_type": "code",
   "execution_count": 154,
   "metadata": {},
   "outputs": [
    {
     "data": {
      "text/plain": [
       "20"
      ]
     },
     "execution_count": 154,
     "metadata": {},
     "output_type": "execute_result"
    }
   ],
   "source": [
    "len(loss_means)"
   ]
  },
  {
   "cell_type": "code",
   "execution_count": 12,
   "metadata": {},
   "outputs": [
    {
     "data": {
      "image/png": "[encoded data removed]",
      "text/plain": [
       "<matplotlib.figure.Figure at 0x11c292e48>"
      ]
     },
     "metadata": {
      "needs_background": "light"
     },
     "output_type": "display_data"
    }
   ],
   "source": [
    "### --- GENERATE FIG 1 --- ###\n",
    "raw_data = np.array(baseline_data['init_LR_test_loss'])\n",
    "unique_LRs = np.unique(np.array(baseline_LRs))\n",
    "baseline_test_losses = {lr:[] for lr in unique_LRs}\n",
    "for i, loss in enumerate(raw_data):\n",
    "    baseline_test_losses[baseline_LRs[i]].append(loss)\n",
    "loss_means = np.array([np.mean(v) for v in baseline_test_losses.values()])\n",
    "loss_sems = np.array([np.std(v)/np.sqrt(len(v)) for v in baseline_test_losses.values()])\n",
    "fig = plt.figure(figsize=(2.5, 2.5))\n",
    "#plt.plot(np.log10(baseline_LRs), np.log10(baseline_data['init_LR_test_loss']), '.', alpha=0.3)\n",
    "#plt.plot(np.log10(unique_LRs), loss_means + loss_sems, color='C0')\n",
    "#plt.plot(np.log10(unique_LRs), loss_means - loss_sems, color='C0')\n",
    "plt.plot(np.log10(unique_LRs), np.log10(loss_means), color='C0')\n",
    "lambda_star = -0.5\n",
    "plt.axvline(x=lambda_star, color='C9', linestyle='--')\n",
    "plt.xticks([-4, -2, 0])\n",
    "#plt.ylim([0, 10])\n",
    "fig.savefig(os.path.join(figs_path, 'LR_gridsearch.pdf'), dpi=300, format='pdf')"
   ]
  },
  {
   "cell_type": "code",
   "execution_count": 17,
   "metadata": {},
   "outputs": [
    {
     "ename": "TypeError",
     "evalue": "list indices must be integers or slices, not str",
     "output_type": "error",
     "traceback": [
      "\u001b[0;31m---------------------------------------------------------------------------\u001b[0m",
      "\u001b[0;31mTypeError\u001b[0m                                 Traceback (most recent call last)",
      "\u001b[0;32m<ipython-input-17-bf0d9f8946c6>\u001b[0m in \u001b[0;36m<module>\u001b[0;34m()\u001b[0m\n\u001b[1;32m      3\u001b[0m \u001b[0mlambda_star\u001b[0m \u001b[0;34m=\u001b[0m \u001b[0;34m-\u001b[0m\u001b[0;36m0.5\u001b[0m\u001b[0;34m\u001b[0m\u001b[0;34m\u001b[0m\u001b[0m\n\u001b[1;32m      4\u001b[0m \u001b[0;32mfor\u001b[0m \u001b[0mi\u001b[0m\u001b[0;34m,\u001b[0m \u001b[0mmon\u001b[0m \u001b[0;32min\u001b[0m \u001b[0menumerate\u001b[0m\u001b[0;34m(\u001b[0m\u001b[0mmodel_data\u001b[0m\u001b[0;34m[\u001b[0m\u001b[0;34m'monitors'\u001b[0m\u001b[0;34m]\u001b[0m\u001b[0;34m)\u001b[0m\u001b[0;34m:\u001b[0m\u001b[0;34m\u001b[0m\u001b[0;34m\u001b[0m\u001b[0m\n\u001b[0;32m----> 5\u001b[0;31m     \u001b[0mlayer_wise\u001b[0m \u001b[0;34m=\u001b[0m \u001b[0mnp\u001b[0m\u001b[0;34m.\u001b[0m\u001b[0marray\u001b[0m\u001b[0;34m(\u001b[0m\u001b[0mmodel_data\u001b[0m\u001b[0;34m[\u001b[0m\u001b[0;34m'monitors'\u001b[0m\u001b[0;34m]\u001b[0m\u001b[0;34m[\u001b[0m\u001b[0;34m'layer_wise_means'\u001b[0m\u001b[0;34m]\u001b[0m\u001b[0;34m)\u001b[0m\u001b[0;34m\u001b[0m\u001b[0;34m\u001b[0m\u001b[0m\n\u001b[0m\u001b[1;32m      6\u001b[0m     \u001b[0;32mfor\u001b[0m \u001b[0mi\u001b[0m \u001b[0;32min\u001b[0m \u001b[0mrange\u001b[0m\u001b[0;34m(\u001b[0m\u001b[0mlayer_wise\u001b[0m\u001b[0;34m.\u001b[0m\u001b[0mshape\u001b[0m\u001b[0;34m[\u001b[0m\u001b[0;36m1\u001b[0m\u001b[0;34m]\u001b[0m\u001b[0;34m)\u001b[0m\u001b[0;34m:\u001b[0m\u001b[0;34m\u001b[0m\u001b[0;34m\u001b[0m\u001b[0m\n\u001b[1;32m      7\u001b[0m         \u001b[0mLR\u001b[0m \u001b[0;34m=\u001b[0m \u001b[0mnp\u001b[0m\u001b[0;34m.\u001b[0m\u001b[0marray\u001b[0m\u001b[0;34m(\u001b[0m\u001b[0mmon\u001b[0m\u001b[0;34m[\u001b[0m\u001b[0;34m'model.mean_eta'\u001b[0m\u001b[0;34m]\u001b[0m\u001b[0;34m)\u001b[0m\u001b[0;34m\u001b[0m\u001b[0;34m\u001b[0m\u001b[0m\n",
      "\u001b[0;31mTypeError\u001b[0m: list indices must be integers or slices, not str"
     ]
    },
    {
     "data": {
      "text/plain": [
       "<matplotlib.figure.Figure at 0x11c511ba8>"
      ]
     },
     "metadata": {},
     "output_type": "display_data"
    }
   ],
   "source": [
    "### --- GENERATE FIG 2 --- ###\n",
    "fig = plt.figure(figsize=(2.5,2.5))\n",
    "lambda_star = -0.5\n",
    "for i, mon in enumerate(model_data['monitors']):\n",
    "    layer_wise = np.array(model_data['monitors']['layer_wise_means'])\n",
    "    for i in range(layer_wise.shape[1]):\n",
    "        LR = np.array(mon['model.mean_eta'])\n",
    "    if (LR < 0.05).any() or (LR > 1).any():\n",
    "        continue\n",
    "    LR = np.log10(LR)\n",
    "    plt.plot([LR[0]], '.', color='C1', alpha=0.3)\n",
    "    plt.plot(LR, color='C1', alpha=0.1)\n",
    "plt.axhline(y=lambda_star, color='C9', linestyle='--')\n",
    "#np.log10(np.arange(750)),\n",
    "#plt.ylim([0, 1])\n",
    "#fig.savefig(os.path.join(figs_path, 'LR_dynamics.pdf'), dpi=300, format='pdf')"
   ]
  },
  {
   "cell_type": "code",
   "execution_count": 18,
   "metadata": {},
   "outputs": [
    {
     "data": {
      "text/plain": [
       "<matplotlib.lines.Line2D at 0x11c5421d0>"
      ]
     },
     "execution_count": 18,
     "metadata": {},
     "output_type": "execute_result"
    },
    {
     "data": {
      "image/png": "[encoded data removed]",
      "text/plain": [
       "<matplotlib.figure.Figure at 0x11c542198>"
      ]
     },
     "metadata": {
      "needs_background": "light"
     },
     "output_type": "display_data"
    }
   ],
   "source": [
    "### --- GENERATE FIG 3 --- ###\n",
    "fig = plt.figure(figsize=(2.5,2.5))\n",
    "colors = ['C3', 'C4', 'C5', 'C6']\n",
    "lambda_star = -0.5\n",
    "for i, mon in enumerate(model_data['monitors']):\n",
    "    layer_wise = np.array(mon['layer_wise_means'])\n",
    "    for i in range(layer_wise.shape[1]):\n",
    "        LR = layer_wise[:,i]\n",
    "        if (LR < 0.05).any() or (LR > 1).any():\n",
    "            continue\n",
    "        LR = np.log10(LR)\n",
    "        plt.plot([LR[0]], '.', color='C1', alpha=0.3)\n",
    "        plt.plot(LR, color=colors[i], alpha=0.1)\n",
    "plt.axhline(y=lambda_star, color='C9', linestyle='--')\n",
    "#np.log10(np.arange(750)),\n",
    "#plt.ylim([0, 1])\n",
    "#fig.savefig(os.path.join(figs_path, 'LR_dynamics.pdf'), dpi=300, format='pdf')"
   ]
  },
  {
   "cell_type": "code",
   "execution_count": 30,
   "metadata": {},
   "outputs": [
    {
     "data": {
      "image/png": "[encoded data removed]",
      "text/plain": [
       "<matplotlib.figure.Figure at 0x12bbf5cc0>"
      ]
     },
     "metadata": {
      "needs_background": "light"
     },
     "output_type": "display_data"
    }
   ],
   "source": [
    "### --- GENERATE FIG 3 --- ###\n",
    "fig = plt.figure(figsize=(2.5,2.5))\n",
    "colors = ['C3', 'C4', 'C5', 'C6']\n",
    "lambda_star = -0.5\n",
    "i_layer = 0\n",
    "for i, mon in enumerate(model_data['monitors']):\n",
    "    layer_wise = np.array(mon['layer_wise_means'])\n",
    "    LR = layer_wise[:,0]\n",
    "    if (LR < 0.05).any() or (LR > 1).any():\n",
    "        continue\n",
    "    LR = np.log10(LR)\n",
    "    plt.plot([LR[0]], '.', color='C1', alpha=0.3)\n",
    "    plt.plot(LR, color='C1', alpha=0.3)\n",
    "    LR = layer_wise[:,-1]\n",
    "    if (LR < 0.05).any() or (LR > 1).any():\n",
    "        continue\n",
    "    LR = np.log10(LR)\n",
    "    plt.plot([LR[0]], '.', color='C1', alpha=0.3)\n",
    "    plt.plot(LR, color='C0', alpha=0.3)\n",
    "plt.axhline(y=lambda_star, color='C9', linestyle='--')\n",
    "#np.log10(np.arange(750)),\n",
    "#plt.ylim([0, 1])\n",
    "#fig.savefig(os.path.join(figs_path, 'LR_by_layer_dynamics.pdf'), dpi=300, format='pdf')"
   ]
  },
  {
   "cell_type": "code",
   "execution_count": 27,
   "metadata": {},
   "outputs": [
    {
     "data": {
      "text/plain": [
       "(0, 5000)"
      ]
     },
     "execution_count": 27,
     "metadata": {},
     "output_type": "execute_result"
    },
    {
     "data": {
      "image/png": "[encoded data removed]",
      "text/plain": [
       "<matplotlib.figure.Figure at 0x119b8cb38>"
      ]
     },
     "metadata": {
      "needs_background": "light"
     },
     "output_type": "display_data"
    }
   ],
   "source": [
    "plt.plot(config_lrs, baseline_init_correct, '.')\n",
    "plt.ylim([0, 5000])"
   ]
  },
  {
   "cell_type": "code",
   "execution_count": 6,
   "metadata": {},
   "outputs": [
    {
     "ename": "ValueError",
     "evalue": "x and y must have same first dimension, but have shapes (75,) and (0,)",
     "output_type": "error",
     "traceback": [
      "\u001b[0;31m---------------------------------------------------------------------------\u001b[0m",
      "\u001b[0;31mValueError\u001b[0m                                Traceback (most recent call last)",
      "\u001b[0;32m<ipython-input-6-e65cc968540e>\u001b[0m in \u001b[0;36m<module>\u001b[0;34m()\u001b[0m\n\u001b[1;32m      1\u001b[0m \u001b[0mx_lim\u001b[0m \u001b[0;34m=\u001b[0m \u001b[0;36m0\u001b[0m\u001b[0;34m\u001b[0m\u001b[0;34m\u001b[0m\u001b[0m\n\u001b[1;32m      2\u001b[0m \u001b[0my_lim\u001b[0m \u001b[0;34m=\u001b[0m \u001b[0;36m0.4\u001b[0m\u001b[0;34m\u001b[0m\u001b[0;34m\u001b[0m\u001b[0m\n\u001b[0;32m----> 3\u001b[0;31m \u001b[0mplt\u001b[0m\u001b[0;34m.\u001b[0m\u001b[0mplot\u001b[0m\u001b[0;34m(\u001b[0m\u001b[0mtest_loss\u001b[0m\u001b[0;34m,\u001b[0m \u001b[0mbaseline_mean_loss\u001b[0m\u001b[0;34m,\u001b[0m \u001b[0;34m'.'\u001b[0m\u001b[0;34m)\u001b[0m\u001b[0;34m\u001b[0m\u001b[0;34m\u001b[0m\u001b[0m\n\u001b[0m\u001b[1;32m      4\u001b[0m \u001b[0mplt\u001b[0m\u001b[0;34m.\u001b[0m\u001b[0mplot\u001b[0m\u001b[0;34m(\u001b[0m\u001b[0;34m[\u001b[0m\u001b[0mx_lim\u001b[0m\u001b[0;34m,\u001b[0m \u001b[0my_lim\u001b[0m\u001b[0;34m]\u001b[0m\u001b[0;34m,\u001b[0m \u001b[0;34m[\u001b[0m\u001b[0mx_lim\u001b[0m\u001b[0;34m,\u001b[0m \u001b[0my_lim\u001b[0m\u001b[0;34m]\u001b[0m\u001b[0;34m,\u001b[0m \u001b[0;34m'k'\u001b[0m\u001b[0;34m)\u001b[0m\u001b[0;34m\u001b[0m\u001b[0;34m\u001b[0m\u001b[0m\n\u001b[1;32m      5\u001b[0m \u001b[0mplt\u001b[0m\u001b[0;34m.\u001b[0m\u001b[0mxlabel\u001b[0m\u001b[0;34m(\u001b[0m\u001b[0;34m'Meta learning'\u001b[0m\u001b[0;34m)\u001b[0m\u001b[0;34m\u001b[0m\u001b[0;34m\u001b[0m\u001b[0m\n",
      "\u001b[0;32m/Users/omarschall/anaconda3/lib/python3.6/site-packages/matplotlib/pyplot.py\u001b[0m in \u001b[0;36mplot\u001b[0;34m(*args, **kwargs)\u001b[0m\n\u001b[1;32m   3315\u001b[0m                       mplDeprecation)\n\u001b[1;32m   3316\u001b[0m     \u001b[0;32mtry\u001b[0m\u001b[0;34m:\u001b[0m\u001b[0;34m\u001b[0m\u001b[0;34m\u001b[0m\u001b[0m\n\u001b[0;32m-> 3317\u001b[0;31m         \u001b[0mret\u001b[0m \u001b[0;34m=\u001b[0m \u001b[0max\u001b[0m\u001b[0;34m.\u001b[0m\u001b[0mplot\u001b[0m\u001b[0;34m(\u001b[0m\u001b[0;34m*\u001b[0m\u001b[0margs\u001b[0m\u001b[0;34m,\u001b[0m \u001b[0;34m**\u001b[0m\u001b[0mkwargs\u001b[0m\u001b[0;34m)\u001b[0m\u001b[0;34m\u001b[0m\u001b[0;34m\u001b[0m\u001b[0m\n\u001b[0m\u001b[1;32m   3318\u001b[0m     \u001b[0;32mfinally\u001b[0m\u001b[0;34m:\u001b[0m\u001b[0;34m\u001b[0m\u001b[0;34m\u001b[0m\u001b[0m\n\u001b[1;32m   3319\u001b[0m         \u001b[0max\u001b[0m\u001b[0;34m.\u001b[0m\u001b[0m_hold\u001b[0m \u001b[0;34m=\u001b[0m \u001b[0mwashold\u001b[0m\u001b[0;34m\u001b[0m\u001b[0;34m\u001b[0m\u001b[0m\n",
      "\u001b[0;32m/Users/omarschall/anaconda3/lib/python3.6/site-packages/matplotlib/__init__.py\u001b[0m in \u001b[0;36minner\u001b[0;34m(ax, *args, **kwargs)\u001b[0m\n\u001b[1;32m   1896\u001b[0m                     warnings.warn(msg % (label_namer, func.__name__),\n\u001b[1;32m   1897\u001b[0m                                   RuntimeWarning, stacklevel=2)\n\u001b[0;32m-> 1898\u001b[0;31m             \u001b[0;32mreturn\u001b[0m \u001b[0mfunc\u001b[0m\u001b[0;34m(\u001b[0m\u001b[0max\u001b[0m\u001b[0;34m,\u001b[0m \u001b[0;34m*\u001b[0m\u001b[0margs\u001b[0m\u001b[0;34m,\u001b[0m \u001b[0;34m**\u001b[0m\u001b[0mkwargs\u001b[0m\u001b[0;34m)\u001b[0m\u001b[0;34m\u001b[0m\u001b[0;34m\u001b[0m\u001b[0m\n\u001b[0m\u001b[1;32m   1899\u001b[0m         \u001b[0mpre_doc\u001b[0m \u001b[0;34m=\u001b[0m \u001b[0minner\u001b[0m\u001b[0;34m.\u001b[0m\u001b[0m__doc__\u001b[0m\u001b[0;34m\u001b[0m\u001b[0;34m\u001b[0m\u001b[0m\n\u001b[1;32m   1900\u001b[0m         \u001b[0;32mif\u001b[0m \u001b[0mpre_doc\u001b[0m \u001b[0;32mis\u001b[0m \u001b[0;32mNone\u001b[0m\u001b[0;34m:\u001b[0m\u001b[0;34m\u001b[0m\u001b[0;34m\u001b[0m\u001b[0m\n",
      "\u001b[0;32m/Users/omarschall/anaconda3/lib/python3.6/site-packages/matplotlib/axes/_axes.py\u001b[0m in \u001b[0;36mplot\u001b[0;34m(self, *args, **kwargs)\u001b[0m\n\u001b[1;32m   1404\u001b[0m         \u001b[0mkwargs\u001b[0m \u001b[0;34m=\u001b[0m \u001b[0mcbook\u001b[0m\u001b[0;34m.\u001b[0m\u001b[0mnormalize_kwargs\u001b[0m\u001b[0;34m(\u001b[0m\u001b[0mkwargs\u001b[0m\u001b[0;34m,\u001b[0m \u001b[0m_alias_map\u001b[0m\u001b[0;34m)\u001b[0m\u001b[0;34m\u001b[0m\u001b[0;34m\u001b[0m\u001b[0m\n\u001b[1;32m   1405\u001b[0m \u001b[0;34m\u001b[0m\u001b[0m\n\u001b[0;32m-> 1406\u001b[0;31m         \u001b[0;32mfor\u001b[0m \u001b[0mline\u001b[0m \u001b[0;32min\u001b[0m \u001b[0mself\u001b[0m\u001b[0;34m.\u001b[0m\u001b[0m_get_lines\u001b[0m\u001b[0;34m(\u001b[0m\u001b[0;34m*\u001b[0m\u001b[0margs\u001b[0m\u001b[0;34m,\u001b[0m \u001b[0;34m**\u001b[0m\u001b[0mkwargs\u001b[0m\u001b[0;34m)\u001b[0m\u001b[0;34m:\u001b[0m\u001b[0;34m\u001b[0m\u001b[0;34m\u001b[0m\u001b[0m\n\u001b[0m\u001b[1;32m   1407\u001b[0m             \u001b[0mself\u001b[0m\u001b[0;34m.\u001b[0m\u001b[0madd_line\u001b[0m\u001b[0;34m(\u001b[0m\u001b[0mline\u001b[0m\u001b[0;34m)\u001b[0m\u001b[0;34m\u001b[0m\u001b[0;34m\u001b[0m\u001b[0m\n\u001b[1;32m   1408\u001b[0m             \u001b[0mlines\u001b[0m\u001b[0;34m.\u001b[0m\u001b[0mappend\u001b[0m\u001b[0;34m(\u001b[0m\u001b[0mline\u001b[0m\u001b[0;34m)\u001b[0m\u001b[0;34m\u001b[0m\u001b[0;34m\u001b[0m\u001b[0m\n",
      "\u001b[0;32m/Users/omarschall/anaconda3/lib/python3.6/site-packages/matplotlib/axes/_base.py\u001b[0m in \u001b[0;36m_grab_next_args\u001b[0;34m(self, *args, **kwargs)\u001b[0m\n\u001b[1;32m    405\u001b[0m                 \u001b[0;32mreturn\u001b[0m\u001b[0;34m\u001b[0m\u001b[0;34m\u001b[0m\u001b[0m\n\u001b[1;32m    406\u001b[0m             \u001b[0;32mif\u001b[0m \u001b[0mlen\u001b[0m\u001b[0;34m(\u001b[0m\u001b[0mremaining\u001b[0m\u001b[0;34m)\u001b[0m \u001b[0;34m<=\u001b[0m \u001b[0;36m3\u001b[0m\u001b[0;34m:\u001b[0m\u001b[0;34m\u001b[0m\u001b[0;34m\u001b[0m\u001b[0m\n\u001b[0;32m--> 407\u001b[0;31m                 \u001b[0;32mfor\u001b[0m \u001b[0mseg\u001b[0m \u001b[0;32min\u001b[0m \u001b[0mself\u001b[0m\u001b[0;34m.\u001b[0m\u001b[0m_plot_args\u001b[0m\u001b[0;34m(\u001b[0m\u001b[0mremaining\u001b[0m\u001b[0;34m,\u001b[0m \u001b[0mkwargs\u001b[0m\u001b[0;34m)\u001b[0m\u001b[0;34m:\u001b[0m\u001b[0;34m\u001b[0m\u001b[0;34m\u001b[0m\u001b[0m\n\u001b[0m\u001b[1;32m    408\u001b[0m                     \u001b[0;32myield\u001b[0m \u001b[0mseg\u001b[0m\u001b[0;34m\u001b[0m\u001b[0;34m\u001b[0m\u001b[0m\n\u001b[1;32m    409\u001b[0m                 \u001b[0;32mreturn\u001b[0m\u001b[0;34m\u001b[0m\u001b[0;34m\u001b[0m\u001b[0m\n",
      "\u001b[0;32m/Users/omarschall/anaconda3/lib/python3.6/site-packages/matplotlib/axes/_base.py\u001b[0m in \u001b[0;36m_plot_args\u001b[0;34m(self, tup, kwargs)\u001b[0m\n\u001b[1;32m    383\u001b[0m             \u001b[0mx\u001b[0m\u001b[0;34m,\u001b[0m \u001b[0my\u001b[0m \u001b[0;34m=\u001b[0m \u001b[0mindex_of\u001b[0m\u001b[0;34m(\u001b[0m\u001b[0mtup\u001b[0m\u001b[0;34m[\u001b[0m\u001b[0;34m-\u001b[0m\u001b[0;36m1\u001b[0m\u001b[0;34m]\u001b[0m\u001b[0;34m)\u001b[0m\u001b[0;34m\u001b[0m\u001b[0;34m\u001b[0m\u001b[0m\n\u001b[1;32m    384\u001b[0m \u001b[0;34m\u001b[0m\u001b[0m\n\u001b[0;32m--> 385\u001b[0;31m         \u001b[0mx\u001b[0m\u001b[0;34m,\u001b[0m \u001b[0my\u001b[0m \u001b[0;34m=\u001b[0m \u001b[0mself\u001b[0m\u001b[0;34m.\u001b[0m\u001b[0m_xy_from_xy\u001b[0m\u001b[0;34m(\u001b[0m\u001b[0mx\u001b[0m\u001b[0;34m,\u001b[0m \u001b[0my\u001b[0m\u001b[0;34m)\u001b[0m\u001b[0;34m\u001b[0m\u001b[0;34m\u001b[0m\u001b[0m\n\u001b[0m\u001b[1;32m    386\u001b[0m \u001b[0;34m\u001b[0m\u001b[0m\n\u001b[1;32m    387\u001b[0m         \u001b[0;32mif\u001b[0m \u001b[0mself\u001b[0m\u001b[0;34m.\u001b[0m\u001b[0mcommand\u001b[0m \u001b[0;34m==\u001b[0m \u001b[0;34m'plot'\u001b[0m\u001b[0;34m:\u001b[0m\u001b[0;34m\u001b[0m\u001b[0;34m\u001b[0m\u001b[0m\n",
      "\u001b[0;32m/Users/omarschall/anaconda3/lib/python3.6/site-packages/matplotlib/axes/_base.py\u001b[0m in \u001b[0;36m_xy_from_xy\u001b[0;34m(self, x, y)\u001b[0m\n\u001b[1;32m    242\u001b[0m         \u001b[0;32mif\u001b[0m \u001b[0mx\u001b[0m\u001b[0;34m.\u001b[0m\u001b[0mshape\u001b[0m\u001b[0;34m[\u001b[0m\u001b[0;36m0\u001b[0m\u001b[0;34m]\u001b[0m \u001b[0;34m!=\u001b[0m \u001b[0my\u001b[0m\u001b[0;34m.\u001b[0m\u001b[0mshape\u001b[0m\u001b[0;34m[\u001b[0m\u001b[0;36m0\u001b[0m\u001b[0;34m]\u001b[0m\u001b[0;34m:\u001b[0m\u001b[0;34m\u001b[0m\u001b[0;34m\u001b[0m\u001b[0m\n\u001b[1;32m    243\u001b[0m             raise ValueError(\"x and y must have same first dimension, but \"\n\u001b[0;32m--> 244\u001b[0;31m                              \"have shapes {} and {}\".format(x.shape, y.shape))\n\u001b[0m\u001b[1;32m    245\u001b[0m         \u001b[0;32mif\u001b[0m \u001b[0mx\u001b[0m\u001b[0;34m.\u001b[0m\u001b[0mndim\u001b[0m \u001b[0;34m>\u001b[0m \u001b[0;36m2\u001b[0m \u001b[0;32mor\u001b[0m \u001b[0my\u001b[0m\u001b[0;34m.\u001b[0m\u001b[0mndim\u001b[0m \u001b[0;34m>\u001b[0m \u001b[0;36m2\u001b[0m\u001b[0;34m:\u001b[0m\u001b[0;34m\u001b[0m\u001b[0;34m\u001b[0m\u001b[0m\n\u001b[1;32m    246\u001b[0m             raise ValueError(\"x and y can be no greater than 2-D, but have \"\n",
      "\u001b[0;31mValueError\u001b[0m: x and y must have same first dimension, but have shapes (75,) and (0,)"
     ]
    },
    {
     "data": {
      "image/png": "[encoded data removed]",
      "text/plain": [
       "<matplotlib.figure.Figure at 0x11555f630>"
      ]
     },
     "metadata": {
      "needs_background": "light"
     },
     "output_type": "display_data"
    }
   ],
   "source": [
    "x_lim = 0\n",
    "y_lim = 0.4\n",
    "plt.plot(test_loss, baseline_mean_loss, '.')\n",
    "plt.plot([x_lim, y_lim], [x_lim, y_lim], 'k')\n",
    "plt.xlabel('Meta learning')\n",
    "plt.ylabel('Baseline')\n",
    "plt.axis('equal')\n",
    "plt.xlim([x_lim, y_lim])\n",
    "plt.ylim([x_lim, y_lim])"
   ]
  },
  {
   "cell_type": "code",
   "execution_count": 37,
   "metadata": {},
   "outputs": [
    {
     "data": {
      "text/plain": [
       "(array([24]),)"
      ]
     },
     "execution_count": 37,
     "metadata": {},
     "output_type": "execute_result"
    }
   ],
   "source": [
    "np.where(np.logical_and(np.array(baseline_mean_correct) < 4250,\n",
    "                        np.array(test_correct) > 4500))"
   ]
  },
  {
   "cell_type": "code",
   "execution_count": 7,
   "metadata": {},
   "outputs": [
    {
     "ename": "TypeError",
     "evalue": "retrieve_job() missing 1 required positional argument: 'data_path'",
     "output_type": "error",
     "traceback": [
      "\u001b[0;31m---------------------------------------------------------------------------\u001b[0m",
      "\u001b[0;31mTypeError\u001b[0m                                 Traceback (most recent call last)",
      "\u001b[0;32m<ipython-input-7-4044c119367d>\u001b[0m in \u001b[0;36m<module>\u001b[0;34m()\u001b[0m\n\u001b[0;32m----> 1\u001b[0;31m \u001b[0mresult\u001b[0m \u001b[0;34m=\u001b[0m \u001b[0mretrieve_job\u001b[0m\u001b[0;34m(\u001b[0m\u001b[0;36m23\u001b[0m\u001b[0;34m)\u001b[0m\u001b[0;34m\u001b[0m\u001b[0;34m\u001b[0m\u001b[0m\n\u001b[0m\u001b[1;32m      2\u001b[0m \u001b[0mmean_LRs\u001b[0m \u001b[0;34m=\u001b[0m \u001b[0mresult\u001b[0m\u001b[0;34m[\u001b[0m\u001b[0;34m'mean_LRs'\u001b[0m\u001b[0;34m]\u001b[0m\u001b[0;34m\u001b[0m\u001b[0;34m\u001b[0m\u001b[0m\n\u001b[1;32m      3\u001b[0m \u001b[0mstd_LRs\u001b[0m \u001b[0;34m=\u001b[0m \u001b[0mresult\u001b[0m\u001b[0;34m[\u001b[0m\u001b[0;34m'std_LRs'\u001b[0m\u001b[0;34m]\u001b[0m\u001b[0;34m\u001b[0m\u001b[0;34m\u001b[0m\u001b[0m\n\u001b[1;32m      4\u001b[0m \u001b[0mlabels\u001b[0m \u001b[0;34m=\u001b[0m \u001b[0mresult\u001b[0m\u001b[0;34m[\u001b[0m\u001b[0;34m'labels'\u001b[0m\u001b[0;34m]\u001b[0m\u001b[0;34m\u001b[0m\u001b[0;34m\u001b[0m\u001b[0m\n\u001b[1;32m      5\u001b[0m \u001b[0mplt\u001b[0m\u001b[0;34m.\u001b[0m\u001b[0merrorbar\u001b[0m\u001b[0;34m(\u001b[0m\u001b[0mrange\u001b[0m\u001b[0;34m(\u001b[0m\u001b[0mlen\u001b[0m\u001b[0;34m(\u001b[0m\u001b[0mmean_LRs\u001b[0m\u001b[0;34m)\u001b[0m\u001b[0;34m)\u001b[0m\u001b[0;34m,\u001b[0m \u001b[0mmean_LRs\u001b[0m\u001b[0;34m,\u001b[0m \u001b[0myerr\u001b[0m\u001b[0;34m=\u001b[0m\u001b[0mstd_LRs\u001b[0m\u001b[0;34m)\u001b[0m\u001b[0;34m\u001b[0m\u001b[0;34m\u001b[0m\u001b[0m\n",
      "\u001b[0;31mTypeError\u001b[0m: retrieve_job() missing 1 required positional argument: 'data_path'"
     ]
    }
   ],
   "source": [
    "result = retrieve_job(23)\n",
    "mean_LRs = result['mean_LRs']\n",
    "std_LRs = result['std_LRs']\n",
    "labels = result['labels']\n",
    "plt.errorbar(range(len(mean_LRs)), mean_LRs, yerr=std_LRs)\n",
    "plt.axhline(y=result['config']['lr'], color='C1')\n",
    "param_types = ['W', 'b']\n",
    "labels = ['Layer-{} {}'.format(i // 2, param_types[i % 2]) for i in range(len(mean_LRs))]\n",
    "plt.xticks(range(len(mean_LRs)), labels)\n",
    "plt.legend(['Init LR', 'Final LR'])\n",
    "# plt.ylim([0,0.1])"
   ]
  },
  {
   "cell_type": "code",
   "execution_count": 10,
   "metadata": {},
   "outputs": [
    {
     "data": {
      "text/plain": [
       "[4703,\n",
       " 4752,\n",
       " 4711,\n",
       " 511,\n",
       " 478,\n",
       " 4743,\n",
       " 4750,\n",
       " 4720,\n",
       " 4777,\n",
       " 4760,\n",
       " 4719,\n",
       " 4713,\n",
       " 4744,\n",
       " 4748,\n",
       " 4750,\n",
       " 510,\n",
       " 4757,\n",
       " 4745,\n",
       " 495,\n",
       " 472,\n",
       " 4757,\n",
       " 4753,\n",
       " 4781,\n",
       " 4773,\n",
       " 4746,\n",
       " 4752,\n",
       " 4764,\n",
       " 4767,\n",
       " 4751,\n",
       " 4765,\n",
       " 4721,\n",
       " 4782,\n",
       " 483,\n",
       " 4740,\n",
       " 502,\n",
       " 493,\n",
       " 4774,\n",
       " 458,\n",
       " 4790,\n",
       " 4749,\n",
       " 4614,\n",
       " 4744,\n",
       " 4761,\n",
       " 4828,\n",
       " 4778,\n",
       " 502,\n",
       " 477,\n",
       " 497,\n",
       " 4728,\n",
       " 487,\n",
       " 4737,\n",
       " 478,\n",
       " 4738,\n",
       " 496,\n",
       " 495,\n",
       " 512,\n",
       " 4748,\n",
       " 482,\n",
       " 4777,\n",
       " 4787,\n",
       " 496,\n",
       " 488,\n",
       " 4729,\n",
       " 509,\n",
       " 500,\n",
       " 484,\n",
       " 498,\n",
       " 460,\n",
       " 503,\n",
       " 489,\n",
       " 512,\n",
       " 508,\n",
       " 507,\n",
       " 455,\n",
       " 499]"
      ]
     },
     "execution_count": 10,
     "metadata": {},
     "output_type": "execute_result"
    }
   ],
   "source": [
    "test_correct"
   ]
  },
  {
   "cell_type": "code",
   "execution_count": 103,
   "metadata": {},
   "outputs": [
    {
     "data": {
      "text/plain": [
       "[]"
      ]
     },
     "execution_count": 103,
     "metadata": {},
     "output_type": "execute_result"
    }
   ],
   "source": [
    "private_LR_test_correct"
   ]
  }
 ],
 "metadata": {
  "kernelspec": {
   "display_name": "Python 3",
   "language": "python",
   "name": "python3"
  },
  "language_info": {
   "codemirror_mode": {
    "name": "ipython",
    "version": 3
   },
   "file_extension": ".py",
   "mimetype": "text/x-python",
   "name": "python",
   "nbconvert_exporter": "python",
   "pygments_lexer": "ipython3",
   "version": "3.6.7"
  }
 },
 "nbformat": 4,
 "nbformat_minor": 2
}
