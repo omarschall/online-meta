{
 "cells": [
  {
   "cell_type": "code",
   "execution_count": 1,
   "metadata": {
    "collapsed": true
   },
   "outputs": [],
   "source": [
    "import torch\n",
    "import torch.nn as nn\n",
    "import torch.nn.functional as F\n",
    "import torch.optim as optim\n",
    "from torchvision import datasets, transforms\n",
    "from pdb import set_trace\n",
    "from copy import copy\n",
    "import numpy as np\n",
    "import matplotlib.pyplot as plt\n",
    "%matplotlib inline\n",
    "import sys\n",
    "sys.path.append('/Users/omarschall/online-meta/')\n",
    "from utils import *"
   ]
  },
  {
   "cell_type": "code",
   "execution_count": 2,
   "metadata": {
    "collapsed": true
   },
   "outputs": [],
   "source": [
    "class Net(nn.Module):\n",
    "    \n",
    "    def __init__(self, layer_sizes, lr_init):\n",
    "        super(Net, self).__init__()\n",
    "        self.layer_sizes = layer_sizes\n",
    "        self.n_layers = len(layer_sizes)\n",
    "        self.n_params = 0\n",
    "        for i in range(1, self.n_layers):\n",
    "            attr = 'layer_{}'.format(i)\n",
    "            setattr(self, attr, nn.Linear(layer_sizes[i-1],\n",
    "                                          layer_sizes[i]))\n",
    "            param_size = (layer_sizes[i-1] + 1) * layer_sizes[i]\n",
    "            self.n_params += param_size\n",
    "            \n",
    "        self.param_sizes = [p.numel() for p in self.parameters()]\n",
    "        self.param_shapes = [tuple(p.shape) for p in self.parameters()]\n",
    "        self.param_cumsum = np.cumsum([0] + self.param_sizes)\n",
    "            \n",
    "        self.A = np.random.normal(0, 1, self.n_params)\n",
    "        self.B = np.random.normal(0, 1, self.n_params)\n",
    "        self.eta = np.ones(self.n_params)*lr_init\n",
    "            \n",
    "    def forward(self, x):\n",
    "        x = x.view(-1, self.layer_sizes[0])\n",
    "        for i_layer in range(1, self.n_layers):\n",
    "            attr = 'layer_{}'.format(i_layer)\n",
    "            layer = getattr(self, attr)\n",
    "            x = layer(x)\n",
    "            if i_layer < self.n_layers - 1:\n",
    "                x = F.relu(x)\n",
    "        \n",
    "        return F.log_softmax(x, dim=1)\n",
    "    \n",
    "    def UORO_update_step(self, Q):\n",
    "\n",
    "        self.nu = np.random.choice([-1, 1], Q.shape)\n",
    "        grad = self.flatten_array([p.grad.data.numpy() for p in self.parameters()])\n",
    "        \n",
    "        self.M_projection = self.nu * grad\n",
    "        self.A_forwards = self.A - self.eta * Q\n",
    "        A_norm = norm(self.A_forwards)\n",
    "        B_norm = norm(self.B)\n",
    "        M_norm = norm(self.M_projection)\n",
    "        self.rho_0 = np.sqrt(B_norm/A_norm)\n",
    "        self.rho_1 = np.sqrt(M_norm/np.sqrt(len(self.nu)))\n",
    "        \n",
    "        self.A = self.rho_0 * self.A_forwards + self.rho_1 * self.nu\n",
    "        self.B = (1/self.rho_0) * self.B + (1/self.rho_1) * self.M_projection\n",
    "        \n",
    "    def get_updated_eta(self, mlr, test_grad):\n",
    "        \n",
    "        test_grad = self.flatten_array(test_grad)\n",
    "        self.eta -= mlr*(test_grad.dot(self.A)) * self.B\n",
    "        self.eta = np.maximum(0, self.eta)\n",
    "        \n",
    "        return np.copy(self.unflatten_array(self.eta))\n",
    "    \n",
    "    def flatten_array(self, X):\n",
    "        \"\"\"Takes list of arrays in natural shape of the network parameters\n",
    "        and returns as a flattened 1D numpy array.\"\"\"\n",
    "        \n",
    "        return np.concatenate([x.flatten() for x in X])\n",
    "            \n",
    "    def unflatten_array(self, X):\n",
    "        \"\"\"Takes flattened array and returns in natural shape for network\n",
    "        parameters.\"\"\"\n",
    "        \n",
    "        N = self.param_cumsum\n",
    "        \n",
    "        return [np.reshape(X[N[i]:N[i+1]], s) for i, s in enumerate(self.param_shapes)]\n",
    "        \n",
    "        "
   ]
  },
  {
   "cell_type": "code",
   "execution_count": 3,
   "metadata": {
    "collapsed": true
   },
   "outputs": [],
   "source": [
    "import torch\n",
    "from torch.optim.optimizer import Optimizer\n",
    "from itertools import tee\n",
    "\n",
    "class SGD_Multi_LR(Optimizer):\n",
    "\n",
    "    def __init__(self, params, lr_init=0.005):\n",
    "        \n",
    "        params, params_copy = tee(params)\n",
    "        LR = [lr_init*torch.ones(p.shape) for p in params]\n",
    "        defaults = dict(lr=LR)\n",
    "        super(SGD_Multi_LR, self).__init__(params_copy, defaults)\n",
    "\n",
    "    def __setstate__(self, state):\n",
    "        super(SGD_Multi_LR, self).__setstate__(state)\n",
    "\n",
    "    def step(self):\n",
    "        \"\"\"Performs a single optimization step.\"\"\"\n",
    "\n",
    "        for group in self.param_groups:\n",
    "            for p, lr in zip(group['params'], group['lr']):\n",
    "                if p.grad is None:\n",
    "                    continue\n",
    "                d_p = p.grad.data\n",
    "                p_change = -lr * d_p\n",
    "                p.data.add_(p_change)"
   ]
  },
  {
   "cell_type": "code",
   "execution_count": 6,
   "metadata": {
    "collapsed": true
   },
   "outputs": [],
   "source": [
    "def train(model, train_loader, test_loader, optimizer, epoch, r=0.001, mlr=0.00001,\n",
    "          report_interval=1000):\n",
    "    model.train()\n",
    "    for batch_idx, (data, target) in enumerate(train_loader):\n",
    "        optimizer.zero_grad()\n",
    "        output = model(data)\n",
    "        loss = F.nll_loss(output, target)\n",
    "        loss.backward()\n",
    "        optimizer.step()\n",
    "        if batch_idx % report_interval == 0 and batch_idx > 0:\n",
    "            print('Train Epoch: {} [{}/{} ({:.0f}%)]\\tLoss: {:.6f}'.format(\n",
    "                epoch, batch_idx * len(data), len(train_loader.dataset),\n",
    "                100. * batch_idx / len(train_loader), loss.item()))\n",
    "            \n",
    "        ### --- METALEARNING --- ###\n",
    "        \n",
    "        #Approximate the Hessian\n",
    "        A = model.unflatten_array(model.A)\n",
    "        \n",
    "        model_plus = copy(model)\n",
    "        for p, a in zip(model_plus.parameters(), A):\n",
    "            perturbation = torch.from_numpy(r*a).type(torch.FloatTensor)\n",
    "            p.data += perturbation\n",
    "        \n",
    "        model_plus.train()\n",
    "        output = model_plus(data)\n",
    "        loss = F.nll_loss(output, target)\n",
    "        loss.backward()\n",
    "        \n",
    "        model_minus = copy(model)\n",
    "        for p, a in zip(model_minus.parameters(), A):\n",
    "            p.data -= torch.from_numpy(r*a).type(torch.FloatTensor)\n",
    "        \n",
    "        model_minus.train()\n",
    "        output = model_plus(data)\n",
    "        loss = F.nll_loss(output, target)\n",
    "        loss.backward()\n",
    "        \n",
    "        g_plus = [p.grad.data for p in model_plus.parameters()]\n",
    "        g_minus = [p.grad.data for p in model_minus.parameters()]\n",
    "        Q = (model.flatten_array(g_plus) - model.flatten_array(g_minus))/(2*r)\n",
    "        \n",
    "        test_grad = get_test_grad(model, test_loader=test_loader)\n",
    "        model.UORO_update_step(Q)\n",
    "        new_eta = model.get_updated_eta(mlr, test_grad=test_grad)\n",
    "        \n",
    "        #set_trace()\n",
    "        \n",
    "        for lr, eta in zip(optimizer.param_groups[0]['lr'], new_eta):\n",
    "            lr.data = torch.from_numpy(eta).type(torch.FloatTensor)"
   ]
  },
  {
   "cell_type": "code",
   "execution_count": 7,
   "metadata": {
    "collapsed": true
   },
   "outputs": [],
   "source": [
    "def test(model, test_loader):\n",
    "    model.eval()\n",
    "    test_loss = 0\n",
    "    correct = 0\n",
    "    with torch.no_grad():\n",
    "        for data, target in test_loader:\n",
    "            output = model(data)\n",
    "            test_loss += F.nll_loss(output, target, reduction='sum').item() # sum up batch loss\n",
    "            pred = output.argmax(dim=1, keepdim=True) # get the index of the max log-probability\n",
    "            correct += pred.eq(target.view_as(pred)).sum().item()\n",
    "            \n",
    "    test_loss /= len(test_loader.dataset)\n",
    "\n",
    "    print('\\nTest set: Average loss: {:.4f}, Accuracy: {}/{} ({:.0f}%)\\n'.format(\n",
    "        test_loss, correct, len(test_loader.dataset),\n",
    "        100. * correct / len(test_loader.dataset)))"
   ]
  },
  {
   "cell_type": "code",
   "execution_count": 8,
   "metadata": {
    "collapsed": true
   },
   "outputs": [],
   "source": [
    "def get_test_grad(model, test_loader):\n",
    "    test_model = copy(model)\n",
    "    test_model.train()\n",
    "    for data, target in test_loader:\n",
    "        #set_trace()\n",
    "        #TODO: MAKE THIS SAMPLE FROM DIFFERENT PARTS OF THE TEST DATA!\n",
    "        output = test_model(data)\n",
    "        test_loss = F.nll_loss(output, target)\n",
    "        test_loss.backward()\n",
    "        break\n",
    "        \n",
    "    return [p.grad.data.numpy() for p in test_model.parameters()]"
   ]
  },
  {
   "cell_type": "code",
   "execution_count": 11,
   "metadata": {},
   "outputs": [
    {
     "name": "stdout",
     "output_type": "stream",
     "text": [
      "\n",
      "Test set: Average loss: 0.2049, Accuracy: 9388/10000 (94%)\n",
      "\n",
      "\n",
      "Test set: Average loss: 0.1306, Accuracy: 9605/10000 (96%)\n",
      "\n",
      "\n",
      "Test set: Average loss: 0.1028, Accuracy: 9677/10000 (97%)\n",
      "\n",
      "\n",
      "Test set: Average loss: 0.0867, Accuracy: 9729/10000 (97%)\n",
      "\n",
      "\n",
      "Test set: Average loss: 0.0748, Accuracy: 9768/10000 (98%)\n",
      "\n"
     ]
    }
   ],
   "source": [
    "batch_size = 200\n",
    "test_batch_size = 100\n",
    "epochs = 5\n",
    "lr = 1e-1\n",
    "\n",
    "train_loader = torch.utils.data.DataLoader(\n",
    "    datasets.MNIST('../data', train=True, download=True,\n",
    "                   transform=transforms.Compose([\n",
    "                       transforms.ToTensor(),\n",
    "                       transforms.Normalize((0.1307,), (0.3081,))\n",
    "                   ])),\n",
    "    batch_size=batch_size, shuffle=True)\n",
    "test_loader = torch.utils.data.DataLoader(\n",
    "    datasets.MNIST('../data', train=False, transform=transforms.Compose([\n",
    "                       transforms.ToTensor(),\n",
    "                       transforms.Normalize((0.1307,), (0.3081,))\n",
    "                   ])),\n",
    "    batch_size=test_batch_size, shuffle=True)\n",
    "\n",
    "\n",
    "model = Net([784, 1000, 200, 10], lr_init=lr)\n",
    "optimizer = SGD_Multi_LR(model.parameters(), lr_init=lr)\n",
    "#optimizer = optim.SGD(model.parameters(), lr=lr)\n",
    "\n",
    "for epoch in range(1, epochs + 1):\n",
    "    train(model, train_loader, test_loader, optimizer, epoch, mlr=0.00005)\n",
    "    test(model, test_loader)"
   ]
  },
  {
   "cell_type": "code",
   "execution_count": 10,
   "metadata": {},
   "outputs": [
    {
     "data": {
      "text/plain": [
       "<matplotlib.legend.Legend at 0x1c2a80fda0>"
      ]
     },
     "execution_count": 10,
     "metadata": {},
     "output_type": "execute_result"
    },
    {
     "data": {
      "image/png": "[encoded data removed]",
      "text/plain": [
       "<matplotlib.figure.Figure at 0x1c1ae48b70>"
      ]
     },
     "metadata": {
      "needs_background": "light"
     },
     "output_type": "display_data"
    }
   ],
   "source": [
    "mean_LRs = [float(LR.mean()) for LR in optimizer.param_groups[0]['lr']]\n",
    "std_LRs = [float(LR.std()) for LR in optimizer.param_groups[0]['lr']]\n",
    "plt.errorbar(range(len(mean_LRs)), mean_LRs, yerr=std_LRs)\n",
    "plt.axhline(y=lr, color='C1')\n",
    "param_types = ['W', 'b']\n",
    "labels = ['Layer-{} {}'.format(i//2, param_types[i%2]) for i in range(len(mean_LRs))]\n",
    "plt.xticks(range(len(mean_LRs)), labels)\n",
    "plt.legend(['Init LR', 'Final LR'])\n",
    "#plt.ylim([0,0.1])"
   ]
  },
  {
   "cell_type": "code",
   "execution_count": 59,
   "metadata": {},
   "outputs": [
    {
     "data": {
      "text/plain": [
       "0.00999774131923914"
      ]
     },
     "execution_count": 59,
     "metadata": {},
     "output_type": "execute_result"
    }
   ],
   "source": [
    "float(optimizer.param_groups[0]['lr'][0].mean())"
   ]
  }
 ],
 "metadata": {
  "kernelspec": {
   "display_name": "Python 3",
   "language": "python",
   "name": "python3"
  },
  "language_info": {
   "codemirror_mode": {
    "name": "ipython",
    "version": 3
   },
   "file_extension": ".py",
   "mimetype": "text/x-python",
   "name": "python",
   "nbconvert_exporter": "python",
   "pygments_lexer": "ipython3",
   "version": "3.6.7"
  }
 },
 "nbformat": 4,
 "nbformat_minor": 2
}
